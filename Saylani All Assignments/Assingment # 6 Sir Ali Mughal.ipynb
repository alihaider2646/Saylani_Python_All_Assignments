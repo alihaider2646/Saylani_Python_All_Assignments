{
 "cells": [
  {
   "cell_type": "markdown",
   "metadata": {},
   "source": [
    "## Question 1: Define Object Oriented Programming Language?\n",
    "\n"
   ]
  },
  {
   "cell_type": "markdown",
   "metadata": {},
   "source": [
    "Answer:\n",
    "\n",
    "Object-oriented programming is a programming paradigm based on the concept of \n",
    "\"objects\", which can contain data, in the form of fields, and code, in the form\n",
    "of procedures. A feature of objects is an object's procedures that can access and often modify the data fields of the object with which they are associated.\n"
   ]
  },
  {
   "cell_type": "markdown",
   "metadata": {},
   "source": [
    "## Question 2: List down the Benefits of OOP?\n"
   ]
  },
  {
   "cell_type": "markdown",
   "metadata": {},
   "source": [
    "Answer: \n",
    "\n",
    "•Modularity for easier troubleshooting. Something has gone wrong, and you have no idea where to look.\n",
    "\n",
    "•Reuse of code through inheritance.\n",
    "\n",
    "•Flexibility through polymorphism.\n",
    "\n",
    "•Effective problem solving.\n"
   ]
  },
  {
   "cell_type": "markdown",
   "metadata": {},
   "source": [
    "## Question 3: Differentiate between function and method?\n"
   ]
  },
  {
   "cell_type": "markdown",
   "metadata": {},
   "source": [
    "Answer:\n",
    "\n",
    "A function is a piece of code that is called by name. It can be passed data to operate on (i.e. the parameters) and can optionally return data (the return value). All data that is passed to a function is explicitly passed. A method is a piece of code that is called by a name that is associated with an object.\n"
   ]
  },
  {
   "cell_type": "markdown",
   "metadata": {},
   "source": [
    "## Question 4: Define the following terms?\n",
    "## 1. Class\n",
    "## 2. Object\n",
    "## 3. Attribute\n",
    "## 4. Behavior\n"
   ]
  },
  {
   "cell_type": "markdown",
   "metadata": {},
   "source": [
    "Answer:\n",
    "\n",
    "Class: In object-oriented programming, a class is an extensible program-code-template for creating objects, providing initial values for state and implementations of behavior.\n",
    "\n",
    "Object: In object-oriented programming (OOP), objects are the things you think about first in designing a program and they are also the units of code that are eventually derived from the process. Each object is an instance of a particular class or subclass with the class's own methods or procedures and data variables.\n",
    "\n",
    "Attribute: In Object-oriented programming (OOP), classes and objects have attributes. Attributes are data stored inside a class or instance and represent the state or quality of the class or instance. One can think of attributes as noun or adjective, while methods are the verb of the class.\n",
    "\n",
    "Behavior: A class's behavior determines how an instance of that class operates; for example, how it will \"react\" if asked to do something by another class or object or if its internal state changes. Behavior is the only way objects can do anything to themselves or have anything done to them.\n"
   ]
  },
  {
   "cell_type": "markdown",
   "metadata": {},
   "source": [
    "## Question 5: Write a code in python in which create a class named it Car which have 5 attributes such like (model, color and name etc.) and 3 methods And create 5 object instance from that class?\n"
   ]
  },
  {
   "cell_type": "markdown",
   "metadata": {},
   "source": [
    "Answer:\n",
    "\n",
    "class Car:\n",
    "\n",
    "car_count = 0 \n",
    "\n",
    "def start(self, name, make, model):\n",
    "\n",
    " print (\"Engine started\") \n",
    " \n",
    "self.name = name \n",
    "\n",
    "self.make = make \n",
    "\n",
    "self.model = model\n",
    "\n",
    "Car.car_count += 1\n",
    " \n",
    "car_a = Car() \n",
    "\n",
    "car_a.start(\"Corrola\", \"Toyota\", 2015) \n",
    "\n",
    "print(car_a.name) \n",
    "\n",
    "print(car_a.car_count)\n",
    "\n",
    "car_b = Car() \n",
    "\n",
    "car_b.start(\"City\", \"Honda\", 2013) \n",
    "\n",
    "print(car_b.name)\n",
    "\n",
    " print(car_b.car_count)\n"
   ]
  },
  {
   "cell_type": "code",
   "execution_count": null,
   "metadata": {},
   "outputs": [],
   "source": []
  }
 ],
 "metadata": {
  "kernelspec": {
   "display_name": "Python 3",
   "language": "python",
   "name": "python3"
  },
  "language_info": {
   "codemirror_mode": {
    "name": "ipython",
    "version": 3
   },
   "file_extension": ".py",
   "mimetype": "text/x-python",
   "name": "python",
   "nbconvert_exporter": "python",
   "pygments_lexer": "ipython3",
   "version": "3.7.3"
  }
 },
 "nbformat": 4,
 "nbformat_minor": 2
}

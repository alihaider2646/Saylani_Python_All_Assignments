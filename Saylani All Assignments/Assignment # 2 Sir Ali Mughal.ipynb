{
 "cells": [
  {
   "cell_type": "code",
   "execution_count": 1,
   "metadata": {},
   "outputs": [
    {
     "name": "stdout",
     "output_type": "stream",
     "text": [
      "Enter Computer Science Marks : 50\n",
      "Enter Pakistan Studies Marks : 50\n",
      "Enter English Marks : 50\n",
      "Enter Sindhi Marks : 50\n",
      "Enter Chemistry Marks : 50\n",
      "Total Marks:250\n",
      "Percentage:63.29113924050633%\n"
     ]
    }
   ],
   "source": [
    "CS=int(input(\"Enter Computer Science Marks : \"))\n",
    "PSt=int(input(\"Enter Pakistan Studies Marks : \"))\n",
    "Eng=int(input(\"Enter English Marks : \"))\n",
    "Sindhi=int(input(\"Enter Sindhi Marks : \"))\n",
    "Chem=int(input(\"Enter Chemistry Marks : \"))\n",
    "Total=CS+PSt+Eng+Sindhi+Chem\n",
    "print(\"Total Marks:\"+str(Total))\n",
    "Percent=(Total*100)/395\n",
    "print(\"Percentage:\"+str(Percent)+\"%\")"
   ]
  },
  {
   "cell_type": "code",
   "execution_count": 3,
   "metadata": {},
   "outputs": [
    {
     "name": "stdout",
     "output_type": "stream",
     "text": [
      "Enter a Number : 109\n",
      "Your Enter Number is  Odd Number\n"
     ]
    }
   ],
   "source": [
    "num=int(input(\"Enter a Number : \"))\n",
    "if num % 2==0:\n",
    "    print(\"Your Enter Number is Even Number\")\n",
    "else:\n",
    "    print(\"Your Enter Number is  Odd Number\")"
   ]
  },
  {
   "cell_type": "code",
   "execution_count": 4,
   "metadata": {},
   "outputs": [
    {
     "name": "stdout",
     "output_type": "stream",
     "text": [
      "Length of the List :  14\n"
     ]
    }
   ],
   "source": [
    "list=[1,2,3,4,5,6,7,8,9,0,11,24,25,78]\n",
    "print(\"Length of the List : \"+\" \"+str(len(list)))"
   ]
  },
  {
   "cell_type": "code",
   "execution_count": 5,
   "metadata": {},
   "outputs": [
    {
     "name": "stdout",
     "output_type": "stream",
     "text": [
      "Sum of the List :  176\n"
     ]
    }
   ],
   "source": [
    "list=[1,2,3,4,5,6,7,8,9,0,23,89,7,12]\n",
    "print(\"Sum of the List : \"+\" \"+str(sum(list)))"
   ]
  },
  {
   "cell_type": "code",
   "execution_count": 6,
   "metadata": {},
   "outputs": [
    {
     "name": "stdout",
     "output_type": "stream",
     "text": [
      "Largest Number of the List :  234\n"
     ]
    }
   ],
   "source": [
    "list=[1,2,3,4,5,6,7,8,9,0,156,98,234]\n",
    "print(\"Largest Number of the List : \"+\" \"+str(max(list)))"
   ]
  },
  {
   "cell_type": "code",
   "execution_count": 7,
   "metadata": {},
   "outputs": [
    {
     "name": "stdout",
     "output_type": "stream",
     "text": [
      "1\n",
      "1\n",
      "2\n",
      "3\n"
     ]
    }
   ],
   "source": [
    "a=[1,1,2,3,5,8,13,21,34,55,89,67]\n",
    "for x in a:\n",
    "    if x<5:\n",
    "        print(x)\n",
    "    "
   ]
  },
  {
   "cell_type": "code",
   "execution_count": null,
   "metadata": {},
   "outputs": [],
   "source": []
  }
 ],
 "metadata": {
  "kernelspec": {
   "display_name": "Python 3",
   "language": "python",
   "name": "python3"
  },
  "language_info": {
   "codemirror_mode": {
    "name": "ipython",
    "version": 3
   },
   "file_extension": ".py",
   "mimetype": "text/x-python",
   "name": "python",
   "nbconvert_exporter": "python",
   "pygments_lexer": "ipython3",
   "version": "3.7.3"
  }
 },
 "nbformat": 4,
 "nbformat_minor": 2
}
